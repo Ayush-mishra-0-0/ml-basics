{
  "nbformat": 4,
  "nbformat_minor": 0,
  "metadata": {
    "colab": {
      "provenance": [],
      "authorship_tag": "ABX9TyM7b5X4MFRdomqz6R76He6E",
      "include_colab_link": true
    },
    "kernelspec": {
      "name": "python3",
      "display_name": "Python 3"
    },
    "language_info": {
      "name": "python"
    }
  },
  "cells": [
    {
      "cell_type": "markdown",
      "metadata": {
        "id": "view-in-github",
        "colab_type": "text"
      },
      "source": [
        "<a href=\"https://colab.research.google.com/github/Ayush-mishra-0-0/ml-basics/blob/master/markdown_info.ipynb\" target=\"_parent\"><img src=\"https://colab.research.google.com/assets/colab-badge.svg\" alt=\"Open In Colab\"/></a>"
      ]
    },
    {
      "cell_type": "markdown",
      "source": [
        "QUESTION-1 PART A  \n",
        "<a href=\"https://ingeh.medium.com/markdown-for-jupyter-notebooks-cheatsheet-386c05aeebed\"> HELLO WHAT IS UP??</a>  \n",
        "<code>print \"hello\" </code>  \n",
        "_so this is a italic string_  \n",
        "__this is a highlighted text__  \n",
        "<font color=\"green\">JAI SHREE RAM</font>  \n",
        "`this is a back`\n",
        "> This is indented text\n",
        ">\n",
        "- First point\n",
        "- Seond point  \n",
        "     1 INNER  \n",
        "     2 INNER\n",
        "- Third point  \n",
        "!('/content/tsi3.jpg')   \n",
        "\n",
        "<img src=\"/tsi3.jpg\"  title=\"Title text\" />\n",
        "\n",
        "```python\n",
        "def hello():\n",
        "    print(\"Hello, world!\")\n",
        "\n",
        "\n",
        "\n"
      ],
      "metadata": {
        "id": "VJSEW4KQcJG7"
      }
    },
    {
      "cell_type": "code",
      "execution_count": null,
      "metadata": {
        "id": "NvsGuA4DcEPq"
      },
      "outputs": [],
      "source": [
        "from IPython.display import Image\n",
        "\n",
        "# Path to the image file\n",
        "image_path = '/content/tsi3.jpg'\n",
        "\n",
        "# Display the image\n",
        "Image(image_path)\n"
      ]
    },
    {
      "cell_type": "code",
      "source": [],
      "metadata": {
        "id": "eRPY6hwzo3w2"
      },
      "execution_count": null,
      "outputs": []
    }
  ]
}